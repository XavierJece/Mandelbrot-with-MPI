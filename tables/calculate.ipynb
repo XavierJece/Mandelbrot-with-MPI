{
 "cells": [
  {
   "cell_type": "code",
   "execution_count": 9,
   "id": "7e08bd92",
   "metadata": {},
   "outputs": [],
   "source": [
    "def amdal(f,p):\n",
    "    s = 1/((1-f) + f/p)\n",
    "    return s\n",
    "\n",
    "def efficiency(tp,p):\n",
    "    e = (1-tp)/(p*tp)\n",
    "    return e\n",
    "\n",
    "def efficiency2(s,p):\n",
    "    e = s/p\n",
    "    return e    "
   ]
  },
  {
   "cell_type": "code",
   "execution_count": 10,
   "id": "3d5c7488",
   "metadata": {},
   "outputs": [
    {
     "name": "stdout",
     "output_type": "stream",
     "text": [
      "1 - 1.00\n",
      "2 - 1.98\n",
      "3 - 2.93\n",
      "4 - 3.86\n",
      "5 - 4.76\n",
      "6 - 5.65\n",
      "7 - 6.52\n",
      "8 - 7.36\n"
     ]
    }
   ],
   "source": [
    "for t in range(1,9):\n",
    "    print(f\"{t} - {amdal(0.9876, t):.2f}\")"
   ]
  },
  {
   "cell_type": "code",
   "execution_count": 13,
   "id": "19663e24",
   "metadata": {},
   "outputs": [
    {
     "name": "stdout",
     "output_type": "stream",
     "text": [
      "1 - 0.01255569056298093\n",
      "2 - 0.006277845281490465\n",
      "3 - 0.00418523018766031\n",
      "4 - 0.0031389226407452326\n",
      "5 - 0.002511138112596186\n",
      "6 - 0.002092615093830155\n",
      "7 - 0.0017936700804258472\n",
      "8 - 0.0015694613203726163\n"
     ]
    }
   ],
   "source": [
    "for t in range(1,9):\n",
    "    print(f\"{t} - {efficiency(0.9876, t)}\")"
   ]
  },
  {
   "cell_type": "code",
   "execution_count": 12,
   "id": "88f54174",
   "metadata": {},
   "outputs": [
    {
     "name": "stdout",
     "output_type": "stream",
     "text": [
      "1 - 1.00\n",
      "2 - 0.99\n",
      "3 - 0.98\n",
      "4 - 0.96\n",
      "5 - 0.95\n",
      "6 - 0.94\n",
      "7 - 0.93\n",
      "8 - 0.92\n"
     ]
    }
   ],
   "source": [
    "for t in range(1,9):\n",
    "    print(f\"{t} - {efficiency2(amdal(0.9876,t), t):.2f}\")"
   ]
  },
  {
   "cell_type": "code",
   "execution_count": 2,
   "id": "eaa022df",
   "metadata": {},
   "outputs": [
    {
     "name": "stdout",
     "output_type": "stream",
     "text": [
      "0.012399999999999967\n"
     ]
    }
   ],
   "source": [
    "print((1 - 0.9876))"
   ]
  },
  {
   "cell_type": "code",
   "execution_count": 1,
   "id": "f51b8d81",
   "metadata": {},
   "outputs": [
    {
     "name": "stdout",
     "output_type": "stream",
     "text": [
      "80.6451612903228\n"
     ]
    }
   ],
   "source": [
    "print(1/(1 - 0.9876))"
   ]
  },
  {
   "cell_type": "code",
   "execution_count": null,
   "id": "ea625de6",
   "metadata": {},
   "outputs": [],
   "source": []
  }
 ],
 "metadata": {
  "kernelspec": {
   "display_name": "Python 3.10.6 64-bit",
   "language": "python",
   "name": "python3"
  },
  "language_info": {
   "codemirror_mode": {
    "name": "ipython",
    "version": 3
   },
   "file_extension": ".py",
   "mimetype": "text/x-python",
   "name": "python",
   "nbconvert_exporter": "python",
   "pygments_lexer": "ipython3",
   "version": "3.10.6 (main, Nov 14 2022, 16:10:14) [GCC 11.3.0]"
  },
  "vscode": {
   "interpreter": {
    "hash": "916dbcbb3f70747c44a77c7bcd40155683ae19c65e1c03b4aa3499c5328201f1"
   }
  }
 },
 "nbformat": 4,
 "nbformat_minor": 5
}
