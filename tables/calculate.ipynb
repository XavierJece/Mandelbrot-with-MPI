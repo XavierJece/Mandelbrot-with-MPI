{
 "cells": [
  {
   "cell_type": "code",
   "execution_count": 10,
   "id": "7e08bd92",
   "metadata": {},
   "outputs": [],
   "source": [
    "# Speedup Lei de Amdahl\n",
    "def amdal(f,p):\n",
    "    s = 1/((1-f) + f/p)\n",
    "    return s\n",
    "\n",
    "# Speedup Real usando tempo serial / tempo paralelo\n",
    "def speedupReal(ts,tp):\n",
    "    r = ts/tp\n",
    "    return r  \n",
    "\n",
    "def efficiency(tp,p):\n",
    "    e = (1-tp)/(p*tp)\n",
    "    return e\n",
    "\n",
    "def efficiency2(s,p):\n",
    "    e = s/p\n",
    "    return e    \n",
    "  "
   ]
  },
  {
   "cell_type": "code",
   "execution_count": 2,
   "id": "3d5c7488",
   "metadata": {},
   "outputs": [
    {
     "name": "stdout",
     "output_type": "stream",
     "text": [
      "1 - 1.00\n",
      "2 - 1.98\n",
      "3 - 2.93\n",
      "4 - 3.86\n",
      "5 - 4.77\n",
      "6 - 5.66\n",
      "7 - 6.52\n",
      "8 - 7.37\n"
     ]
    }
   ],
   "source": [
    "for t in range(1,9):\n",
    "    print(f\"{t} - {amdal(0.9878, t):.2f}\")"
   ]
  },
  {
   "cell_type": "code",
   "execution_count": 3,
   "id": "19663e24",
   "metadata": {},
   "outputs": [
    {
     "name": "stdout",
     "output_type": "stream",
     "text": [
      "1 - 0.01255569056298093\n",
      "2 - 0.006277845281490465\n",
      "3 - 0.00418523018766031\n",
      "4 - 0.0031389226407452326\n",
      "5 - 0.002511138112596186\n",
      "6 - 0.002092615093830155\n",
      "7 - 0.0017936700804258472\n",
      "8 - 0.0015694613203726163\n"
     ]
    }
   ],
   "source": [
    "for t in range(1,9):\n",
    "    print(f\"{t} - {efficiency(0.9876, t)}\")"
   ]
  },
  {
   "cell_type": "code",
   "execution_count": 16,
   "id": "88f54174",
   "metadata": {},
   "outputs": [
    {
     "name": "stdout",
     "output_type": "stream",
     "text": [
      "1 - 1.00\n",
      "2 - 0.99\n",
      "3 - 0.98\n",
      "4 - 0.96\n",
      "5 - 0.95\n",
      "6 - 0.94\n",
      "7 - 0.93\n",
      "8 - 0.92\n"
     ]
    }
   ],
   "source": [
    "eficiencia_teorica = []\n",
    "for t in range(1,9):\n",
    "    print(f\"{t} - {efficiency2(amdal(0.9878,t), t):.2f}\")\n",
    "    eficiencia_teorica.append(efficiency2(amdal(0.9878,t), t))"
   ]
  },
  {
   "cell_type": "code",
   "execution_count": 19,
   "id": "eaa022df",
   "metadata": {},
   "outputs": [
    {
     "data": {
      "text/plain": [
       "[1.0,\n",
       " 0.9879470460383324,\n",
       " 0.9761811792268645,\n",
       " 0.9646922631680495,\n",
       " 0.9534706331045003,\n",
       " 0.9425070688030162,\n",
       " 0.9317927692881104,\n",
       " 0.9213193292795283]"
      ]
     },
     "execution_count": 19,
     "metadata": {},
     "output_type": "execute_result"
    }
   ],
   "source": [
    "eficiencia_teorica"
   ]
  },
  {
   "cell_type": "code",
   "execution_count": 7,
   "id": "530efce6",
   "metadata": {},
   "outputs": [
    {
     "name": "stdout",
     "output_type": "stream",
     "text": [
      "0.9986392309673531\n",
      "1.1595593339591894\n",
      "1.4248309958671495\n",
      "1.6985849943667142\n",
      "1.869790109581314\n",
      "2.087929915302685\n",
      "2.5285342514845714\n",
      "2.767218016037246\n"
     ]
    }
   ],
   "source": [
    "tempos_mpi = [18143417,15625529,12716405,10666954,9690247,8677843,7165704,6547633]\n",
    "tempo_serial = 18118728\n",
    "speedup_real = []\n",
    "for i in tempos_mpi:\n",
    "    print(speedupReal(tempo_serial, i))\n",
    "    speedup_real.append(speedupReal(tempo_serial, i))"
   ]
  },
  {
   "cell_type": "code",
   "execution_count": 14,
   "id": "323aa73a",
   "metadata": {},
   "outputs": [
    {
     "name": "stdout",
     "output_type": "stream",
     "text": [
      "1 - 1.00\n",
      "2 - 0.58\n",
      "3 - 0.47\n",
      "4 - 0.42\n",
      "5 - 0.37\n",
      "6 - 0.35\n",
      "7 - 0.36\n",
      "8 - 0.35\n"
     ]
    }
   ],
   "source": [
    "eficiencia_real = []\n",
    "for t in range(1,9):\n",
    "    print(f\"{t} - {efficiency2(speedup_real[t-1], t):.2f}\")\n",
    "    eficiencia_real.append(efficiency2(speedup_real[t-1], t))"
   ]
  },
  {
   "cell_type": "code",
   "execution_count": 18,
   "id": "60f7db24",
   "metadata": {},
   "outputs": [
    {
     "name": "stdout",
     "output_type": "stream",
     "text": [
      "0.9986392309673531\n",
      "0.5868529789167457\n",
      "0.4865322907221026\n",
      "0.4401883012901339\n",
      "0.3922071733857765\n",
      "0.3692156066893581\n",
      "0.38766042267046313\n",
      "0.37544230432585335\n"
     ]
    }
   ],
   "source": [
    "for t in range(0,8):\n",
    "    print(eficiencia_real[t]/eficiencia_teorica[t])"
   ]
  },
  {
   "cell_type": "code",
   "execution_count": null,
   "id": "2af40ae2",
   "metadata": {},
   "outputs": [],
   "source": []
  }
 ],
 "metadata": {
  "kernelspec": {
   "display_name": "Python 3.10.6 64-bit",
   "language": "python",
   "name": "python3"
  },
  "language_info": {
   "codemirror_mode": {
    "name": "ipython",
    "version": 3
   },
   "file_extension": ".py",
   "mimetype": "text/x-python",
   "name": "python",
   "nbconvert_exporter": "python",
   "pygments_lexer": "ipython3",
   "version": "3.10.6"
  },
  "vscode": {
   "interpreter": {
    "hash": "916dbcbb3f70747c44a77c7bcd40155683ae19c65e1c03b4aa3499c5328201f1"
   }
  }
 },
 "nbformat": 4,
 "nbformat_minor": 5
}
